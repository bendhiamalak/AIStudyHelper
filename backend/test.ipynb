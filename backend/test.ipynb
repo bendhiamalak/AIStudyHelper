{
 "cells": [
  {
   "cell_type": "code",
   "execution_count": 2,
   "id": "9fcb0670",
   "metadata": {},
   "outputs": [],
   "source": [
    "from pdf_utils import extract_text"
   ]
  },
  {
   "cell_type": "code",
   "execution_count": 3,
   "id": "3040498a",
   "metadata": {},
   "outputs": [],
   "source": [
    "text=extract_text(\"chap1.pdf\")"
   ]
  },
  {
   "cell_type": "code",
   "execution_count": 4,
   "id": "20ef6584",
   "metadata": {},
   "outputs": [],
   "source": [
    "from pipeline import chunk_text, store_embeddings, generate_quiz\n"
   ]
  },
  {
   "cell_type": "code",
   "execution_count": null,
   "id": "00ca3e63",
   "metadata": {},
   "outputs": [],
   "source": [
    "def test_chunk_text(text):\n",
    "    print(\"\\n=== Test de découpage du texte ===\")\n",
    "    chunks = chunk_text(text)\n",
    "    print(f\"Nombre de morceaux : {len(chunks)}\")\n",
    "    print(f\"Premier morceau :\\n{chunks[0][:100]}...\")  \n",
    "    return chunks"
   ]
  },
  {
   "cell_type": "code",
   "execution_count": 6,
   "id": "3d22f3e1",
   "metadata": {},
   "outputs": [
    {
     "name": "stdout",
     "output_type": "stream",
     "text": [
      "\n",
      "=== Test de découpage du texte ===\n",
      "Nombre de morceaux : 22\n",
      "Premier morceau :\n",
      "La Virtualisation\n",
      "Dr. Bechir Ben GOUISSEM\n",
      "Motivations\n",
      "• Réduire la consommation: un data center sur ...\n",
      "['La Virtualisation\\nDr. Bechir Ben GOUISSEM\\nMotivations\\n• Réduire la consommation: un data center sur 300m2 avec 80 Baies de\\n2000 Serveurs consomme en 10 Ans 227 M litre d’eau et 177 GWh.\\n• LA CONSOLIDATION: Optimisation du taux d’utilisation des ressources des\\nserveurs\\n• LA RATIONALISATION: Suppression des équipements superflus et\\nredondants.\\n• LA CONCENTRATION: Réduction de l’espace occupé par les infrastructures\\nserveurs\\nDr. Bechir Ben Gouissem 2\\n• Problèmes relatifs à l’utilisation du modèle traditionnel\\nd’utilisation des ressources informatiques :\\n• Coût : frais d‘achat, installation, licences, maintenance, etc.\\n• Evolutivité : difficulté de passer à l’échelle\\n(ajouter/libérer des ressources selon les besoins).\\n• Mobilité : plusieurs problèmes sont rencontrées pour\\nfaire l’accès distant à des applications locales.\\nDr. Bechir Ben Gouissem 3\\n• Minimiser le coût global de possession (TotalCost of Ownership) ,TCO\\nTCO = CAPEX + OPEX', \"faire l’accès distant à des applications locales.\\nDr. Bechir Ben Gouissem 3\\n• Minimiser le coût global de possession (TotalCost of Ownership) ,TCO\\nTCO = CAPEX + OPEX\\n“ Les OPEX ou dépenses d'exploitation (de l'anglais operational expenditure) sont les\\ncharges courantes pour exploiter un produit, une entreprise, ouun système”.\\n“Les CAPEX ou dépenses d'investissement (de l'anglais capital expenditure) se réfèrent\\naux immobilisations, c'est-à-dire aux dépenses qui ont une valeur positive sur le long\\nterme”.\\nDr. Bechir Ben Gouissem 4\\n• CAPEX\\n• Les CAPEXregroupent\\n• Dépensespour l’achat desimmobilisations\\n• Dépensescréant des avantagesfuturs\\n• Exemples :acquisition d’immobilisations incorporelles, réparation d’un actif existant pour améliorer la\\ndurée de vie,démarrage ouacquisitiond’une nouvelleentreprise\\n• CAPEX liés TIC\\n• Hardwareet programmes ordinateurs\\n• Hardwareet programmes réseaux\\n• Hardwareet programme serveurs\\n• Installationet intégrationhardware et programmes\", '• CAPEX liés TIC\\n• Hardwareet programmes ordinateurs\\n• Hardwareet programmes réseaux\\n• Hardwareet programme serveurs\\n• Installationet intégrationhardware et programmes\\n• Maintenance, garanties et licences\\nDr. Bechir Ben Gouissem 5\\nOPEX\\n• LesOPEXregroupent\\n• Dépenses continues pour faire fonctionner un produit, une entreprise ouun système\\n• Dépenses quotidiennes\\n• Dépenses d’exploitation sont la somme des dépenses d’exploitation pour unepériode\\n• de temps (mois ou année)\\n• Exemples : frais licence , frais location, entretien et réparations, frais d’avocats et frais\\njuridiques, frais communications téléphoniques, frais déplacements véhicules, etc.\\n• OPEXliésTIC\\n• Allocation des services : hébergement, data center\\n• Alimentation : équipements de refroidissement, alimentation de secours\\n• Frais de : test, coupure service, faillite\\n• Restauration et processus de recouvrement\\n• Audit Dr. Bechir Ben Gouissem 6\\nVirtualisation du Hardware\\nDr. Bechir Ben Gouissem 7\\nPrincipe de la virtualisation', '• Restauration et processus de recouvrement\\n• Audit Dr. Bechir Ben Gouissem 6\\nVirtualisation du Hardware\\nDr. Bechir Ben Gouissem 7\\nPrincipe de la virtualisation\\n• Un serveur est un ordinateur utilisé à distance depuis différents postes de travail, ou autres serveurs qui possède\\ndes ressources matérielles, principalement CPU, mémoire, disques et interfaces réseau.\\n• Ces ressources sont utilisées par des applications, non pas de manière directe, mais en s’appuyant sur un système\\nd’exploitation.\\n• La virtualisation de serveurs est un ensemble de techniques et d’outils permettant de faire tourner plusieurs\\nsystèmes d’exploitation sur un même serveur physique.\\n• Le principe de la virtualisation est donc un principe de partage : les différents systèmes d’exploitation se partagent\\nles ressources du serveur physique.\\n• La virtualisation est une technologie qui permet de créer des environnements virtuels ou des instances logicielles\\nde ressources informatiques physiques', \"les ressources du serveur physique.\\n• La virtualisation est une technologie qui permet de créer des environnements virtuels ou des instances logicielles\\nde ressources informatiques physiques\\n• des serveurs, des systèmes d'exploitation, des réseaux, des dispositifs de stockage, etc.\\n• Une technologie largement utilisée dans les data centers et les infrastructures informatiques pour optimiser\\nl'utilisation des ressources, améliorer la flexibilité et la gestion, et réduire les coûts.\\nDr. BechirBen Gouissem 8\\nObjectifs de la virtualisation\\n• La virtualisation vise à optimiser l'utilisation des ressources informatiques, à\\naméliorer la flexibilité, la gestion et la sécurité, et à réduire les coûts\\nd'infrastructure.\\n• Elle est largement utilisée dans les data centers, les environnements cloud, les\\npostes de travail virtuels et d'autres domaines de l'informatique pour atteindre\\nces objectifs.\\n• La virtualisation offre de nombreux avantages, notamment la consolidation des\", \"postes de travail virtuels et d'autres domaines de l'informatique pour atteindre\\nces objectifs.\\n• La virtualisation offre de nombreux avantages, notamment la consolidation des\\nressources, la réduction des coûts, l'amélioration de l'évolutivité, la gestion\\ncentralisée et la flexibilité.\\n• Elle est devenue un élément essentiel de l'infrastructure informatique moderne,\\npermettant une meilleure utilisation des ressources et une gestion plus efficace\\ndes environnements informatiques.\\nDr. Bechir Ben Gouissem 9\\nDr. Bechir Ben Gouissem 10\\nDéfinition\\n• La virtualisation est une technologie informatique qui permet de créer des\\nversions virtuelles ou simulées de ressources matérielles ou logicielles, telles\\nque des serveurs, des systèmes d'exploitation, des réseaux, des dispositifs de\\nstockage, des applications et plus encore.\\n• Ces ressources virtuelles fonctionnent de manière indépendante les unes des\\nautres et sont isolées des ressources physiques sous-jacentes.\\nDr. Bechir Ben Gouissem 11\", '• Ces ressources virtuelles fonctionnent de manière indépendante les unes des\\nautres et sont isolées des ressources physiques sous-jacentes.\\nDr. Bechir Ben Gouissem 11\\nprincipes fondamentaux\\n• Le cloisonnement : chaque système d’exploitation a un\\nfonctionnement indépendant, et ne peut interférer avec les autres\\nen aucune manière.\\n• La transparence : le fait de fonctionner en mode virtualisé ne\\nchange rien au fonctionnement du système d’exploitation et a\\nfortiori des applications.\\n• La transparence implique la compatibilité : toutes les applications\\npeuvent tourner sur un système virtualisé, et leur fonctionnement\\nn’est en rien modifié.\\nDr. BechirBen Gouissem 12\\nDr. Bechir Ben Gouissem 13\\nexemples d’utilisation de la virtualisation\\n• Virtualisation des Serveurs\\n• Virtualisation du Stockage\\n• Virtualisation du Réseau\\n• Virtualisation des Postes de Travail (VDI)\\n• Virtualisation des Applications (Conteneurs)\\n• Virtualisation du Matériel (Hyperviseurs)\\nDr. Bechir Ben Gouissem 14', '• Virtualisation du Réseau\\n• Virtualisation des Postes de Travail (VDI)\\n• Virtualisation des Applications (Conteneurs)\\n• Virtualisation du Matériel (Hyperviseurs)\\nDr. Bechir Ben Gouissem 14\\nLes types de virtualisation\\n• Virtualisation Complète\\n• Para-Virtualisation\\n• Les Isolateurs\\nDr. Bechir Ben Gouissem 15\\nVirtualisation Complète\\n• Lavirtualisationditecomplète permetdefairefonctionner n’importe\\nquelsystèmed’exploitation entantqu’invité dansunemachinevirtuelle.\\n• Pourl’utilisateurfinal, cetypedevirtualisationestleplussimple\\nàmettreenplace etestlapluspratique.\\n• L’hyperviseurcrée unenvironnementvirtuelcompletsimulant\\nlittéralementunnouvelordinateur complet, avecdu\"matériel virtuel\".\\n• Àquelques raresexceptions, lesystèmed’exploitation invité(installé dans\\nlamachine virtuelle)necommunique qu’aveccematérielsimulé(virtuel), rendantétanchel’environnement virtualisé.\\n• Limitations : Ce type de virtualisation ne permet de virtualiser que des systèmes d’exploitation prévus pour la même', '• Limitations : Ce type de virtualisation ne permet de virtualiser que des systèmes d’exploitation prévus pour la même\\narchitecture matérielle queleprocesseurphysiquedel’ordinateur hôte.\\n• Par exemple, un ordinateur équipé d’un processeur Intel x86 sera incapable de virtualiser un système d’exploitation prévu\\npourfonctionner dansunearchitecture PowerPC.\\n• Quelques hyperviseurs de virtualisation complète : - VirtualBox - VMWare Player, VMWare Workstation - Parallels Desktop\\nforWindows etLinux-KVM\\nDr. Bechir Ben Gouissem 16\\nPara-Virtualisation\\n• La paravirtualisation fait intervenir un hyperviseur.\\n• Il s’agit d’un noyau allégé au dessus duquel viendront\\nse greffer les systèmes invités.\\n• Contrairement à un système traditionnel de machines virtuelles\\noù la virtualisation est transparente, avec la paravirtualisation, le système\\ninvité doit avoir conscience qu’il tourne dans un environnement virtuel ce qui\\nimplique d’employer un noyau modifié.', 'où la virtualisation est transparente, avec la paravirtualisation, le système\\ninvité doit avoir conscience qu’il tourne dans un environnement virtuel ce qui\\nimplique d’employer un noyau modifié.\\n• Ce type de virtualisation permet des performances bien plus importantes que la\\nvirtualisation totale.\\n• Quelques hyperviseurs de virtualisation assisté : - XEN - VMWare ESX/ESXi - Hyper-\\nV (Microsoft) - xVM\\nDr. Bechir Ben Gouissem 17\\nLes Isolateurs\\n• Un isolateur est un logiciel permettant d’isoler l’exécution des applications dans ce qui sont appelés\\ndes contextes, ou bien zones d’exécution.\\n• L’isolateur permet ainsi de faire tourner plusieurs fois la même application dans un mode multi-\\ninstance (plusieurs instances d’exécution) même si elle n’était pas conçue pour ça.\\n• Cette solution est très performante, du fait du peu d’overhead (temps passé par un système à ne\\nrien faire d’autre que se gérer), mais les environnements virtualisés ne sont pas complètement\\nisolés.', 'rien faire d’autre que se gérer), mais les environnements virtualisés ne sont pas complètement\\nisolés.\\n• La performance est donc au rendez-vous, cependant on ne peut pas vraiment parler de\\nvirtualisation de systèmes d’exploitation.\\n• Uniquement liés aux systèmes Linux, les isolateurs sont en fait composés de plusieurs éléments et\\npeuvent prendre plusieurs formes.\\n• Par exemple : Linux-VServer (isolation des processus en espace utilisateur) ; chroot (isolation\\nchangement de racine) ; BSD Jail (isolation en espace utilisateur) ; OpenVZ : libre, (partitionnement\\nau niveau noyausous Linux) ; LXC : libre, (usagedes Cgroupsdu noyauLinux).\\nDr. Bechir Ben Gouissem 18\\n• on parle alors de virtualisation système — ou des applications— on parle alors de virtualisation\\napplicative.\\n• Ces ordinateurs virtuels sont appelés serveur privé virtuel (Virtual Private Server ou VPS) ou encore\\nenvironnement virtuel (Virtual Environment ou VE).\\nDr. Bechir Ben Gouissem 19\\nLes hyperviseurs', '• Ces ordinateurs virtuels sont appelés serveur privé virtuel (Virtual Private Server ou VPS) ou encore\\nenvironnement virtuel (Virtual Environment ou VE).\\nDr. Bechir Ben Gouissem 19\\nLes hyperviseurs\\n• Un hyperviseur, également appelé un \"moniteur de machine\\nvirtuelle\" ou un \"gestionnaire de virtualisation«\\n• C’est un logiciel ou une couche logicielle qui permet de créer et de\\ngérer des machines virtuelles (VM) sur un serveur physique.\\n• L\\'hyperviseur agit comme une couche d\\'abstraction entre le matériel\\nsous-jacent et les systèmes d\\'exploitation invités.\\n• il permet à plusieurs machines virtuelles de fonctionner de manière\\nindépendante sur le même matériel physique.\\nDr. BechirBen Gouissem 20\\nLes principales fonctions d\\'un hyperviseur\\nAllocation des Ressources : L\\'hyperviseur attribue des ressources matérielles, telles que le CPU,\\n\\uf0b7\\nla mémoire, le stockage et les périphériques, aux machines virtuelles selon les besoins.', \"Allocation des Ressources : L'hyperviseur attribue des ressources matérielles, telles que le CPU,\\n\\uf0b7\\nla mémoire, le stockage et les périphériques, aux machines virtuelles selon les besoins.\\nIsolation des Machines Virtuelles : Chaque machine virtuelle est isolée des autres, ce qui signifie\\n\\uf0b7\\nqu'elles ne peuvent pas interférer les unes avec les autres ou accéder aux données des autres VM.\\nMigration en Temps Réel : Certains hyperviseurs permettent de déplacer des machines virtuelles\\n\\uf0b7\\nen cours d'exécution d'un serveur physique à un autre sans interruption de service (migration en\\ntemps réel).\\nGestion des Machines Virtuelles : L'hyperviseur offre des outils de gestion pour créer, supprimer,\\n\\uf0b7\\nsurveiller et mettre à jour des machines virtuelles.\\nSécurité : Les hyperviseurs sont conçus pour offrir un niveau de sécurité élevé en isolant les\\n\\uf0b7\\nmachines virtuelles les unes des autres.\\nDr. Bechir Ben Gouissem 21\\nDr. Bechir Ben Gouissem 22\\nDr. Bechir Ben Gouissem 23\\nDr. Bechir Ben Gouissem 24\", \"\\uf0b7\\nmachines virtuelles les unes des autres.\\nDr. Bechir Ben Gouissem 21\\nDr. Bechir Ben Gouissem 22\\nDr. Bechir Ben Gouissem 23\\nDr. Bechir Ben Gouissem 24\\nHyperviseur de Type 1 (Bare-Metal)\\n• Un hyperviseur de Type 1, ou natif, voire « bare metal »\\n• Ce type d'hyperviseur s'exécute directement sur le matériel\\nphysique, sans nécessiter de système d'exploitation hôte.\\n• C’est un logiciel qui s’exécute directement sur une plateforme\\nmatérielle ; cette plateforme est alors considérée comme outil\\nde contrôle de système d’exploitation.\\n• L’hyperviseur type 1 est un noyau hôte allégé et optimisé pour\\nne faire tourner initialement que des noyaux de systèmes\\nd’exploitation invités adaptés et optimisés à cette architecture\\nspécifique.\\nDr. Bechir Ben Gouissem 25\\nHyperviseur de Type 1 (Bare-Metal)\\n• C’est un logiciel qui s’exécute directement sur une plateforme matérielle ; cette plateforme\\nest alors considérée comme outil de contrôle de système d’exploitation.\", '• C’est un logiciel qui s’exécute directement sur une plateforme matérielle ; cette plateforme\\nest alors considérée comme outil de contrôle de système d’exploitation.\\n• Ces systèmes invités ayant \"conscience\" d’être virtualisés, Sur des processeurs ayant les\\ninstructions de virtualisation matérielle (AMD-V et Intel VT), le système d’exploitation invité\\nn’a plus besoin d’être modifié pour pouvoir être exécuté dans un hyperviseur de type 1.\\n• Il s\\'agit d\\'une couche logicielle très légère qui gère directement les ressources matérielles\\net attribue des ressources aux machines virtuelles.\\n• Les exemples d\\'hyperviseurs de type 1 comprennent VMware vSphere/ESXi, Microsoft\\nHyper-V (dans son mode autonome), et KVM (Kernel-based Virtual Machine).\\n• exemples de tels hyperviseurs plus récents sont Xen, Oracle VM, ESX Server de VMware.\\nDr. Bechir Ben Gouissem 26\\nHyperviseur de Type 2 (Hôte)\\n• Les hyperviseurs de type 2 s\\'exécutent sur un système\\nd\\'exploitation hôte existant.', \"Dr. Bechir Ben Gouissem 26\\nHyperviseur de Type 2 (Hôte)\\n• Les hyperviseurs de type 2 s'exécutent sur un système\\nd'exploitation hôte existant.\\n• L'hyperviseur de type 2 utilise le système d'exploitation hôte pour\\ninteragir avec le matériel sous-jacent et gérer les ressources.\\n• Des machines virtuelles sont ensuite créées en tant que\\nprocessus ou applications au sein de cet hôte.\\n• Les exemples d'hyperviseurs de type 2 incluent Oracle\\nVirtualBox et VMware Workstation.\\nDr. Bechir Ben Gouissem 27\\nLES AVANTAGES DE LA VIRTUALISATION\\n• REDUCTIONS DES COUTS\\n• AMELIORATION DE LA QUALITE DE SERVICE\\n• SIMPLIFICATION DES TACHES D’ADMINISTRATION\\n• SECURISATION\\nDr. Bechir Ben Gouissem 28\\nREDUCTIONS DES COUTS\\n• Economie possible jusqu’à 20 à 40% ou plus selon les cas:\\n• Réduction des coûts matériels : Diminution du nombre de matériels\\nnécessaire au bon fonctionnement de l’infrastructure (mutualisation).\\n• Réduction de la facture énergétique : La rationalisation de\", '• Réduction des coûts matériels : Diminution du nombre de matériels\\nnécessaire au bon fonctionnement de l’infrastructure (mutualisation).\\n• Réduction de la facture énergétique : La rationalisation de\\nl’infrastructure réduit la consommation électrique de l ’ensemble ainsi que\\nles besoins en climatisation.\\n• Réduction du TCO (Total Cost of Ownership) : Cout total de possession\\n• Optimisation du ROI (Return of Investment) : Retour sur investissement\\nDr. Bechir Ben Gouissem 29\\nREDUCTIONS DES COUTS\\nDr. Bechir Ben Gouissem 30\\nAMELIORATION DE LA QUALITE DE SERVICE\\n• Réduction du temps d‘indisponibilité des applications critiques Les fonctionnalités évolués de la\\nvirtualisation permettentde réduireles interruptions de services.\\n• Le Provisioning instantané Le Provisioning instantané permet de mettre en service un nouveau\\nserveurfacilement et en quelques minutes(exemple : par clonage de la machine).', '• Le Provisioning instantané Le Provisioning instantané permet de mettre en service un nouveau\\nserveurfacilement et en quelques minutes(exemple : par clonage de la machine).\\n• Répartition de charge dynamique La virtualisation permet de répartir dynamiquement la charge de\\ntravail en offrant à chaqueapplicationles ressourcesdont elle a besoin mêmeen casde fortes activités.\\n• Mise en place de PRA La virtualisation gère le système tout entier comme des fichiers totalement\\nindépendants du matériel.La mised’unPRA(Plande Reprised’Activité)en est grandementfacilité.\\nDr. Bechir Ben Gouissem 31\\nSIMPLIFICATION DES TACHES D’ADMINISTRATION\\n• Réduction du nombre d’équipement\\n+\\n• Homogénéité de l’infrastructure\\n=\\n•Moins de maintenance Simplification du travail\\nMeilleure maitrise de l’infrastructure\\nDr. Bechir Ben Gouissem 32\\n\\uf0fc Facilité d’administration\\n\\uf0fcinstallation, déploiement et migration aisées des machines\\nvirtuelles entre serveurs physiques,', \"Meilleure maitrise de l’infrastructure\\nDr. Bechir Ben Gouissem 32\\n\\uf0fc Facilité d’administration\\n\\uf0fcinstallation, déploiement et migration aisées des machines\\nvirtuelles entre serveurs physiques,\\n\\uf0fc simulation d’environnements de qualification ou de pré-\\nproduction,\\n\\uf0fccréation de plateforme de tests ou de développements\\nréutilisables à volonté\\nDr. Bechir Ben Gouissem 33\\nSECURISATION\\n• séparation des systèmes virtuels et hôtes (invisibles),\\n• répartition des utilisateurs, isolation des différents\\nutilisateurs simultanés d'une même machine,\\n• diminution des risques liés au dimensionnement des\\nserveurs\\nDr. Bechir Ben Gouissem 34\\nDomaines d’application\\n• Virtualisation des Serveurs : Cette forme de virtualisation permet de diviser un\\nserveur physique en plusieurs machines virtuelles (VM). Chaque VM fonctionne\\ncomme une instance indépendante d'un système d'exploitation, avec ses propres\\nressources allouées et applications. Cela permet de consolider les serveurs\", \"comme une instance indépendante d'un système d'exploitation, avec ses propres\\nressources allouées et applications. Cela permet de consolider les serveurs\\nphysiques, d'améliorer l'utilisation des ressources et de simplifier la gestion.\\n• Virtualisation du Stockage : La virtualisation du stockage agrège des\\nressources de stockage physiques en un pool de stockage centralisé. Cela\\npermet une gestion flexible du stockage, la création de volumes de stockage à la\\ndemande et la migration transparente des données.\\nDr. Bechir Ben Gouissem 35\\n• Virtualisation du Réseau : Cette forme de virtualisation permet de créer\\ndes réseaux virtuels isolés au sein d'un réseau physique. Elle facilite la\\nsegmentation du trafic, la gestion des politiques de sécurité et la création de\\nréseaux définis par logiciel (SDN).\\n• Virtualisation des Postes de Travail (VDI) : La virtualisation des postes de\\ntravail (Virtual Desktop Infrastructure) permet de créer des environnements\", \"réseaux définis par logiciel (SDN).\\n• Virtualisation des Postes de Travail (VDI) : La virtualisation des postes de\\ntravail (Virtual Desktop Infrastructure) permet de créer des environnements\\nde bureau virtuels, où les postes de travail sont exécutés sur des serveurs\\ndistants et accessibles à distance par les utilisateurs.\\nDr. Bechir Ben Gouissem 36\\n• Virtualisation des Applications (Conteneurs) : La virtualisation des\\napplications, également appelée conteneurisation, permet d'emballer une\\napplication et ses dépendances dans un conteneur léger. Les conteneurs\\npartagent le même noyau du système d'exploitation hôte, ce qui les rend\\nplus légers que les VM.\\n• Virtualisation du Matériel (Hyperviseurs) : Les hyperviseurs sont des\\nlogiciels qui permettent de créer et de gérer des machines virtuelles sur un\\nserveur physique. Ils fournissent une couche d'abstraction entre le matériel\\net les systèmes d'exploitation invités.\\nDr. Bechir Ben Gouissem 37\", \"serveur physique. Ils fournissent une couche d'abstraction entre le matériel\\net les systèmes d'exploitation invités.\\nDr. Bechir Ben Gouissem 37\\n• Virtualisation des GPU (Graphical Processing Unit) : La virtualisation des\\nGPU permet d'accéder à des ressources graphiques puissantes dans des\\nenvironnements virtualisés, ce qui est particulièrement utile pour les\\napplications gourmandes en graphiques et l'apprentissage automatique.\\nDr. Bechir Ben Gouissem 38\"]\n"
     ]
    }
   ],
   "source": [
    "chunks=test_chunk_text(text)\n",
    "print(chunks)"
   ]
  },
  {
   "cell_type": "code",
   "execution_count": 7,
   "id": "fc2343b1",
   "metadata": {},
   "outputs": [],
   "source": [
    "def test_store_embeddings(chunks):\n",
    "    print(\"\\n=== Test des embeddings ===\")\n",
    "    vectordb = store_embeddings(chunks)\n",
    "    print(f\"Base de vecteurs créée dans : ./chroma_db\")\n",
    "    print(f\"Nombre de vecteurs stockés : {vectordb._collection.count()}\")\n",
    "    return vectordb\n"
   ]
  },
  {
   "cell_type": "code",
   "execution_count": 9,
   "id": "8b83f5e3",
   "metadata": {},
   "outputs": [
    {
     "name": "stdout",
     "output_type": "stream",
     "text": [
      "\n",
      "=== Test des embeddings ===\n",
      "Base de vecteurs créée dans : ./chroma_db\n",
      "Nombre de vecteurs stockés : 22\n",
      "<langchain_community.vectorstores.chroma.Chroma object at 0x0000024120971BD0>\n"
     ]
    },
    {
     "name": "stderr",
     "output_type": "stream",
     "text": [
      "d:\\MPI\\MPI\\stageIA\\AIStudyHelper\\backend\\pipeline.py:18: LangChainDeprecationWarning: Since Chroma 0.4.x the manual persistence method is no longer supported as docs are automatically persisted.\n",
      "  vectordb.persist()\n"
     ]
    }
   ],
   "source": [
    "vectordb=test_store_embeddings(chunks)\n",
    "print(vectordb)"
   ]
  },
  {
   "cell_type": "code",
   "execution_count": 14,
   "id": "26787777",
   "metadata": {},
   "outputs": [
    {
     "name": "stdout",
     "output_type": "stream",
     "text": [
      " {\n",
      "    \"questions\": [\n",
      "        {\n",
      "            \"type\": \"mcq\",\n",
      "            \"question\": \"Qu'est-ce que la virtualisation dans le contexte des technologies informatiques?\",\n",
      "            \"options\": [\"A. Une technologie permettant de créer des ressources matérielles ou logicielles virtuelles.\", \"B. Une application permettant d'accéder à internet.\", \"C. Un système de stockage basé sur le cloud.\", \"D. Une technologie utilisée pour la création de jeux vidéo.\"],\n",
      "            \"answer\": 0,\n",
      "            \"explanation\": \"Because it allows the creation of virtual or simulated resources such as servers, operating systems, networks, storage devices, applications and more.\"\n",
      "        },\n",
      "        {\n",
      "            \"type\": \"true_false\",\n",
      "            \"question\": \"Les hyperviseurs de type 2 s'exécutent sur un système d'exploitation hôte existant?\"\n",
      "            \"answer\": true\n",
      "        },\n",
      "        {\n",
      "            \"type\": \"short_answer\",\n",
      "            \"question\": \"Quels sont les objectifs de la virtualisation dans le contexte des technologies informatiques?\"\n",
      "            \"answer\": \"Optimization of resource usage, improvement of flexibility, management and security, and reduction of costs.\"\n",
      "        },\n",
      "        {\n",
      "            \"type\": \"mcq\",\n",
      "            \"question\": \"Quel avantage de la virtualisation permet la diminution du nombre de matériels nécessaires au bon fonctionnement de l’infrastructure?\"\n",
      "            \"options\": [\"A. Réduction des coûts de maintenance.\", \"B. Réduction des coûts énergétiques.\", \"C. Rationalisation de l'infrastructure.\", \"D. Optimisation du ROI (Return on Investment).\"],\n",
      "            \"answer\": 2,\n",
      "            \"explanation\": \"Because it allows for the consolidation of resources.\"\n",
      "        },\n",
      "        {\n",
      "            \"type\": \"short_answer\",\n",
      "            \"question\": \"Que permet le provisioning instantané dans la virtualisation?\"\n",
      "            \"answer\": \"It enables the easy and quick deployment of a new server, for example by cloning a machine.\"\n",
      "        },\n",
      "        {\n",
      "            \"type\": \"mcq\",\n",
      "            \"question\": \"Quel est l'hyperviseur de type 2 mentionné par exemple?\"\n",
      "            \"options\": [\"A. Oracle VirtualBox.\", \"B. VMware Workstation.\", \"C. Windows Server.\", \"D. Linux Kernel.\"],\n",
      "            \"answer\": \"A or B\",\n",
      "            \"explanation\": \"Because it executes on an existing host operating system and uses the host to interact with the underlying hardware and manage resources, creating virtual machines as processes or applications within that host.\"\n",
      "        },\n",
      "        {\n",
      "            \"type\": \"short_answer\",\n",
      "            \"question\": \"Quel avantage de la virtualisation permet la réduction des coûts énergétiques?\"\n",
      "            \"answer\": \"By rationalizing the infrastructure, it reduces the electrical consumption and cooling needs.\"\n",
      "        },\n",
      "        {\n",
      "            \"type\": \"short_answer\",\n",
      "            \"question\": \"Quel avantage de la virtualisation permet une amélioration de la qualité de service?\"\n",
      "            \"answer\": \"It allows for a reduction of critical application downtime and quick provisioning.\"\n",
      "        },\n",
      "        {\n",
      "            \"type\": \"mcq\",\n",
      "            \"question\": \"Comment peut-on réduire les coûts matériels avec la virtualisation?\"\n",
      "            \"options\": [\"A. En réduisant le nombre de serveurs physiques.\", \"B. En réduisant le nombre de disques durs.\", \"C. En réduisant la consommation énergétique.\", \"D. En améliorant la qualité de service.\"],\n",
      "            \"answer\": 0,\n",
      "            \"explanation\": \"By reducing the number of physical servers needed for infrastructure.\"\n",
      "        }\n",
      "    ]\n",
      "}\n"
     ]
    }
   ],
   "source": [
    "quiz = generate_quiz(vectordb, topic=\"technologie\", num_questions=10)\n",
    "print(quiz)"
   ]
  }
 ],
 "metadata": {
  "kernelspec": {
   "display_name": "venv",
   "language": "python",
   "name": "python3"
  },
  "language_info": {
   "codemirror_mode": {
    "name": "ipython",
    "version": 3
   },
   "file_extension": ".py",
   "mimetype": "text/x-python",
   "name": "python",
   "nbconvert_exporter": "python",
   "pygments_lexer": "ipython3",
   "version": "3.13.5"
  }
 },
 "nbformat": 4,
 "nbformat_minor": 5
}
